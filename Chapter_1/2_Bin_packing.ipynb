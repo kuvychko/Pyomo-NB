{
 "cells": [
  {
   "cell_type": "markdown",
   "id": "844377ce",
   "metadata": {},
   "source": [
    "# Bin packing\n",
    "\n",
    "Suppose that a set of items $N = \\{1, \\dots, n\\}$ is given. Item $i \\in N$ has size $a_i$, which is a positive integer. We would like to put the items into bins. Each bin has size $c$, which is also a positive integer. Suppose $n$ bins are available and $c \\geq a_i$ for all $i \\in N$. Each item should be put into exactly one bin, and the total size of items put in a bin should not exceed the size of the bin. The aim of the problem is to minimize the maximum empty space left in the used bins.\n",
    "\n",
    "Let $x_{ij}$ be 1 if item $i \\in N$ is put into bin $j \\in N$, and 0 otherwise. Let $y_j$ be 1 if bin $j \\in N$ is used and 0 otherwise. Let $z$ be the maximum empty space left. Using these variables, formulate an integer programming model for this problem.\n",
    "\n",
    "Problem 1.2 from Mustafa Ç. Pınar's and  Deniz Akkaya's [Problems and Solutions for Integer and Combinatorial Optimization: Building Skills in Discrete Optimization](https://epubs.siam.org/doi/book/10.1137/1.9781611977769).\n"
   ]
  },
  {
   "cell_type": "code",
   "execution_count": 56,
   "id": "e5ee8af7",
   "metadata": {},
   "outputs": [],
   "source": [
    "import numpy as np\n",
    "import pyomo.environ as pyo\n",
    "import matplotlib.pyplot as plt\n",
    "from typing import Tuple, Optional\n",
    "\n",
    "#%matplotlib qt\n",
    "%matplotlib inline"
   ]
  },
  {
   "cell_type": "code",
   "execution_count": 64,
   "id": "d9156e0d",
   "metadata": {},
   "outputs": [],
   "source": [
    "def make_items(n: int, size_range: Tuple[int, int], seed=0):\n",
    "    \"\"\"\n",
    "    Function to generate a list of items for bin packing problem.\n",
    "\n",
    "    Item sizes are randomly generated integers between 1 and s.\n",
    "    \n",
    "    Args:\n",
    "        n (int): Number of items.\n",
    "        size_range (Tuple[int, int]): Range of item sizes (min, max). Max is one more than the actual maximum value generated.\n",
    "        seed (int): Random seed.\n",
    "\n",
    "    Returns:\n",
    "        np.array: Array of item sizes.\n",
    "    \n",
    "    \"\"\"\n",
    "    \n",
    "    rnd = np.random.RandomState(seed)\n",
    "    return rnd.randint(*size_range, n)"
   ]
  },
  {
   "cell_type": "code",
   "execution_count": 65,
   "id": "01ee04ca",
   "metadata": {},
   "outputs": [
    {
     "data": {
      "text/plain": [
       "array([8, 9, 4, 7, 7, 7, 5, 7, 9, 6], dtype=int32)"
      ]
     },
     "execution_count": 65,
     "metadata": {},
     "output_type": "execute_result"
    }
   ],
   "source": [
    "make_items(10, (4, 10), 0)"
   ]
  },
  {
   "cell_type": "code",
   "execution_count": 30,
   "id": "a59001cf",
   "metadata": {},
   "outputs": [],
   "source": [
    "def create_model(items: np.array, bin_size: int):\n",
    "    \"\"\"\n",
    "    Function to create a Pyomo model of the bin packing problem.\n",
    "\n",
    "    Args:\n",
    "        items (np.array): Array of item sizes.\n",
    "        bin_size (int): Size of the bins (all bins have the same size).\n",
    "\n",
    "    Returns:\n",
    "        pyo.ConcreteModel: Pyomo model of the problem.\n",
    "    \"\"\"\n",
    "    \n",
    "    # Check if bin size is greater or equal to the size of the largest item\n",
    "    assert bin_size >= max(items), \"Bin size should be greater or equal to the size of the largest item.\"\n",
    "\n",
    "    model = pyo.ConcreteModel()\n",
    "    \n",
    "    model.I = range(len(items))\n",
    "    model.J = range(len(items))\n",
    "    \n",
    "    model.x = pyo.Var(model.I, model.J, domain=pyo.Binary)\n",
    "    model.y = pyo.Var(model.J, domain=pyo.Binary)\n",
    "    model.z = pyo.Var(domain=pyo.NonNegativeReals)\n",
    "    \n",
    "    model.obj = pyo.Objective(expr=model.z, sense=pyo.minimize)\n",
    "    \n",
    "    # Item uniqueness constraint - each item should be put into exactly one bin\n",
    "    model.c1 = pyo.ConstraintList()\n",
    "    for i in model.I:\n",
    "        model.c1.add(sum(model.x[i, j] for j in model.J) == 1)\n",
    "    \n",
    "    # Used bin constraint - if at least one item is put into a bin, the bin is used, and y[j] = 1\n",
    "    model.c2 = pyo.ConstraintList()\n",
    "    for j in model.J:\n",
    "        model.c2.add(sum(model.x[i, j] for i in model.I) <= len(items) * model.y[j])\n",
    "    \n",
    "    # Bin capacity constraint - the total size of items put in a bin should not exceed the size of the bin\n",
    "    model.c3 = pyo.ConstraintList()\n",
    "    for j in model.J:\n",
    "        model.c2.add(sum(items[i] * model.x[i, j] for i in model.I) <= bin_size * model.y[j])\n",
    "    \n",
    "    # Maximum empty space left constraint\n",
    "    model.c4 = pyo.ConstraintList()\n",
    "    for j in model.J:\n",
    "        model.c3.add(bin_size * model.y[j] - sum(items[i] * model.x[i, j] for i in model.I) <= model.z)\n",
    "        \n",
    "    return model"
   ]
  },
  {
   "cell_type": "code",
   "execution_count": 32,
   "id": "ce64a5cf",
   "metadata": {},
   "outputs": [
    {
     "data": {
      "text/plain": [
       "array([3, 4, 3, 4, 4, 5, 3, 5, 3, 3], dtype=int32)"
      ]
     },
     "execution_count": 32,
     "metadata": {},
     "output_type": "execute_result"
    }
   ],
   "source": [
    "a = make_items(10, (3, 6), 0)\n",
    "a"
   ]
  },
  {
   "cell_type": "code",
   "execution_count": 33,
   "id": "4148de92",
   "metadata": {},
   "outputs": [],
   "source": [
    "model = create_model(a, 8)"
   ]
  },
  {
   "cell_type": "code",
   "execution_count": 34,
   "id": "06c04332",
   "metadata": {},
   "outputs": [
    {
     "name": "stdout",
     "output_type": "stream",
     "text": [
      "3 Var Declarations\n",
      "    x : Size=100, Index={0, 1, 2, 3, 4, 5, 6, 7, 8, 9}*{0, 1, 2, 3, 4, 5, 6, 7, 8, 9}\n",
      "        Key    : Lower : Value : Upper : Fixed : Stale : Domain\n",
      "        (0, 0) :     0 :  None :     1 : False :  True : Binary\n",
      "        (0, 1) :     0 :  None :     1 : False :  True : Binary\n",
      "        (0, 2) :     0 :  None :     1 : False :  True : Binary\n",
      "        (0, 3) :     0 :  None :     1 : False :  True : Binary\n",
      "        (0, 4) :     0 :  None :     1 : False :  True : Binary\n",
      "        (0, 5) :     0 :  None :     1 : False :  True : Binary\n",
      "        (0, 6) :     0 :  None :     1 : False :  True : Binary\n",
      "        (0, 7) :     0 :  None :     1 : False :  True : Binary\n",
      "        (0, 8) :     0 :  None :     1 : False :  True : Binary\n",
      "        (0, 9) :     0 :  None :     1 : False :  True : Binary\n",
      "        (1, 0) :     0 :  None :     1 : False :  True : Binary\n",
      "        (1, 1) :     0 :  None :     1 : False :  True : Binary\n",
      "        (1, 2) :     0 :  None :     1 : False :  True : Binary\n",
      "        (1, 3) :     0 :  None :     1 : False :  True : Binary\n",
      "        (1, 4) :     0 :  None :     1 : False :  True : Binary\n",
      "        (1, 5) :     0 :  None :     1 : False :  True : Binary\n",
      "        (1, 6) :     0 :  None :     1 : False :  True : Binary\n",
      "        (1, 7) :     0 :  None :     1 : False :  True : Binary\n",
      "        (1, 8) :     0 :  None :     1 : False :  True : Binary\n",
      "        (1, 9) :     0 :  None :     1 : False :  True : Binary\n",
      "        (2, 0) :     0 :  None :     1 : False :  True : Binary\n",
      "        (2, 1) :     0 :  None :     1 : False :  True : Binary\n",
      "        (2, 2) :     0 :  None :     1 : False :  True : Binary\n",
      "        (2, 3) :     0 :  None :     1 : False :  True : Binary\n",
      "        (2, 4) :     0 :  None :     1 : False :  True : Binary\n",
      "        (2, 5) :     0 :  None :     1 : False :  True : Binary\n",
      "        (2, 6) :     0 :  None :     1 : False :  True : Binary\n",
      "        (2, 7) :     0 :  None :     1 : False :  True : Binary\n",
      "        (2, 8) :     0 :  None :     1 : False :  True : Binary\n",
      "        (2, 9) :     0 :  None :     1 : False :  True : Binary\n",
      "        (3, 0) :     0 :  None :     1 : False :  True : Binary\n",
      "        (3, 1) :     0 :  None :     1 : False :  True : Binary\n",
      "        (3, 2) :     0 :  None :     1 : False :  True : Binary\n",
      "        (3, 3) :     0 :  None :     1 : False :  True : Binary\n",
      "        (3, 4) :     0 :  None :     1 : False :  True : Binary\n",
      "        (3, 5) :     0 :  None :     1 : False :  True : Binary\n",
      "        (3, 6) :     0 :  None :     1 : False :  True : Binary\n",
      "        (3, 7) :     0 :  None :     1 : False :  True : Binary\n",
      "        (3, 8) :     0 :  None :     1 : False :  True : Binary\n",
      "        (3, 9) :     0 :  None :     1 : False :  True : Binary\n",
      "        (4, 0) :     0 :  None :     1 : False :  True : Binary\n",
      "        (4, 1) :     0 :  None :     1 : False :  True : Binary\n",
      "        (4, 2) :     0 :  None :     1 : False :  True : Binary\n",
      "        (4, 3) :     0 :  None :     1 : False :  True : Binary\n",
      "        (4, 4) :     0 :  None :     1 : False :  True : Binary\n",
      "        (4, 5) :     0 :  None :     1 : False :  True : Binary\n",
      "        (4, 6) :     0 :  None :     1 : False :  True : Binary\n",
      "        (4, 7) :     0 :  None :     1 : False :  True : Binary\n",
      "        (4, 8) :     0 :  None :     1 : False :  True : Binary\n",
      "        (4, 9) :     0 :  None :     1 : False :  True : Binary\n",
      "        (5, 0) :     0 :  None :     1 : False :  True : Binary\n",
      "        (5, 1) :     0 :  None :     1 : False :  True : Binary\n",
      "        (5, 2) :     0 :  None :     1 : False :  True : Binary\n",
      "        (5, 3) :     0 :  None :     1 : False :  True : Binary\n",
      "        (5, 4) :     0 :  None :     1 : False :  True : Binary\n",
      "        (5, 5) :     0 :  None :     1 : False :  True : Binary\n",
      "        (5, 6) :     0 :  None :     1 : False :  True : Binary\n",
      "        (5, 7) :     0 :  None :     1 : False :  True : Binary\n",
      "        (5, 8) :     0 :  None :     1 : False :  True : Binary\n",
      "        (5, 9) :     0 :  None :     1 : False :  True : Binary\n",
      "        (6, 0) :     0 :  None :     1 : False :  True : Binary\n",
      "        (6, 1) :     0 :  None :     1 : False :  True : Binary\n",
      "        (6, 2) :     0 :  None :     1 : False :  True : Binary\n",
      "        (6, 3) :     0 :  None :     1 : False :  True : Binary\n",
      "        (6, 4) :     0 :  None :     1 : False :  True : Binary\n",
      "        (6, 5) :     0 :  None :     1 : False :  True : Binary\n",
      "        (6, 6) :     0 :  None :     1 : False :  True : Binary\n",
      "        (6, 7) :     0 :  None :     1 : False :  True : Binary\n",
      "        (6, 8) :     0 :  None :     1 : False :  True : Binary\n",
      "        (6, 9) :     0 :  None :     1 : False :  True : Binary\n",
      "        (7, 0) :     0 :  None :     1 : False :  True : Binary\n",
      "        (7, 1) :     0 :  None :     1 : False :  True : Binary\n",
      "        (7, 2) :     0 :  None :     1 : False :  True : Binary\n",
      "        (7, 3) :     0 :  None :     1 : False :  True : Binary\n",
      "        (7, 4) :     0 :  None :     1 : False :  True : Binary\n",
      "        (7, 5) :     0 :  None :     1 : False :  True : Binary\n",
      "        (7, 6) :     0 :  None :     1 : False :  True : Binary\n",
      "        (7, 7) :     0 :  None :     1 : False :  True : Binary\n",
      "        (7, 8) :     0 :  None :     1 : False :  True : Binary\n",
      "        (7, 9) :     0 :  None :     1 : False :  True : Binary\n",
      "        (8, 0) :     0 :  None :     1 : False :  True : Binary\n",
      "        (8, 1) :     0 :  None :     1 : False :  True : Binary\n",
      "        (8, 2) :     0 :  None :     1 : False :  True : Binary\n",
      "        (8, 3) :     0 :  None :     1 : False :  True : Binary\n",
      "        (8, 4) :     0 :  None :     1 : False :  True : Binary\n",
      "        (8, 5) :     0 :  None :     1 : False :  True : Binary\n",
      "        (8, 6) :     0 :  None :     1 : False :  True : Binary\n",
      "        (8, 7) :     0 :  None :     1 : False :  True : Binary\n",
      "        (8, 8) :     0 :  None :     1 : False :  True : Binary\n",
      "        (8, 9) :     0 :  None :     1 : False :  True : Binary\n",
      "        (9, 0) :     0 :  None :     1 : False :  True : Binary\n",
      "        (9, 1) :     0 :  None :     1 : False :  True : Binary\n",
      "        (9, 2) :     0 :  None :     1 : False :  True : Binary\n",
      "        (9, 3) :     0 :  None :     1 : False :  True : Binary\n",
      "        (9, 4) :     0 :  None :     1 : False :  True : Binary\n",
      "        (9, 5) :     0 :  None :     1 : False :  True : Binary\n",
      "        (9, 6) :     0 :  None :     1 : False :  True : Binary\n",
      "        (9, 7) :     0 :  None :     1 : False :  True : Binary\n",
      "        (9, 8) :     0 :  None :     1 : False :  True : Binary\n",
      "        (9, 9) :     0 :  None :     1 : False :  True : Binary\n",
      "    y : Size=10, Index={0, 1, 2, 3, 4, 5, 6, 7, 8, 9}\n",
      "        Key : Lower : Value : Upper : Fixed : Stale : Domain\n",
      "          0 :     0 :  None :     1 : False :  True : Binary\n",
      "          1 :     0 :  None :     1 : False :  True : Binary\n",
      "          2 :     0 :  None :     1 : False :  True : Binary\n",
      "          3 :     0 :  None :     1 : False :  True : Binary\n",
      "          4 :     0 :  None :     1 : False :  True : Binary\n",
      "          5 :     0 :  None :     1 : False :  True : Binary\n",
      "          6 :     0 :  None :     1 : False :  True : Binary\n",
      "          7 :     0 :  None :     1 : False :  True : Binary\n",
      "          8 :     0 :  None :     1 : False :  True : Binary\n",
      "          9 :     0 :  None :     1 : False :  True : Binary\n",
      "    z : Size=1, Index=None\n",
      "        Key  : Lower : Value : Upper : Fixed : Stale : Domain\n",
      "        None :     0 :  None :  None : False :  True : NonNegativeReals\n",
      "\n",
      "1 Objective Declarations\n",
      "    obj : Size=1, Index=None, Active=True\n",
      "        Key  : Active : Sense    : Expression\n",
      "        None :   True : minimize :          z\n",
      "\n",
      "4 Constraint Declarations\n",
      "    c1 : Size=10, Index={1, 2, 3, 4, 5, 6, 7, 8, 9, 10}, Active=True\n",
      "        Key : Lower : Body                                                                                    : Upper : Active\n",
      "          1 :   1.0 : x[0,0] + x[0,1] + x[0,2] + x[0,3] + x[0,4] + x[0,5] + x[0,6] + x[0,7] + x[0,8] + x[0,9] :   1.0 :   True\n",
      "          2 :   1.0 : x[1,0] + x[1,1] + x[1,2] + x[1,3] + x[1,4] + x[1,5] + x[1,6] + x[1,7] + x[1,8] + x[1,9] :   1.0 :   True\n",
      "          3 :   1.0 : x[2,0] + x[2,1] + x[2,2] + x[2,3] + x[2,4] + x[2,5] + x[2,6] + x[2,7] + x[2,8] + x[2,9] :   1.0 :   True\n",
      "          4 :   1.0 : x[3,0] + x[3,1] + x[3,2] + x[3,3] + x[3,4] + x[3,5] + x[3,6] + x[3,7] + x[3,8] + x[3,9] :   1.0 :   True\n",
      "          5 :   1.0 : x[4,0] + x[4,1] + x[4,2] + x[4,3] + x[4,4] + x[4,5] + x[4,6] + x[4,7] + x[4,8] + x[4,9] :   1.0 :   True\n",
      "          6 :   1.0 : x[5,0] + x[5,1] + x[5,2] + x[5,3] + x[5,4] + x[5,5] + x[5,6] + x[5,7] + x[5,8] + x[5,9] :   1.0 :   True\n",
      "          7 :   1.0 : x[6,0] + x[6,1] + x[6,2] + x[6,3] + x[6,4] + x[6,5] + x[6,6] + x[6,7] + x[6,8] + x[6,9] :   1.0 :   True\n",
      "          8 :   1.0 : x[7,0] + x[7,1] + x[7,2] + x[7,3] + x[7,4] + x[7,5] + x[7,6] + x[7,7] + x[7,8] + x[7,9] :   1.0 :   True\n",
      "          9 :   1.0 : x[8,0] + x[8,1] + x[8,2] + x[8,3] + x[8,4] + x[8,5] + x[8,6] + x[8,7] + x[8,8] + x[8,9] :   1.0 :   True\n",
      "         10 :   1.0 : x[9,0] + x[9,1] + x[9,2] + x[9,3] + x[9,4] + x[9,5] + x[9,6] + x[9,7] + x[9,8] + x[9,9] :   1.0 :   True\n",
      "    c2 : Size=20, Index={1, 2, 3, 4, 5, 6, 7, 8, 9, 10, 11, 12, 13, 14, 15, 16, 17, 18, 19, 20}, Active=True\n",
      "        Key : Lower : Body                                                                                                                 : Upper : Active\n",
      "          1 :  -Inf :                    x[0,0] + x[1,0] + x[2,0] + x[3,0] + x[4,0] + x[5,0] + x[6,0] + x[7,0] + x[8,0] + x[9,0] - 10*y[0] :   0.0 :   True\n",
      "          2 :  -Inf :                    x[0,1] + x[1,1] + x[2,1] + x[3,1] + x[4,1] + x[5,1] + x[6,1] + x[7,1] + x[8,1] + x[9,1] - 10*y[1] :   0.0 :   True\n",
      "          3 :  -Inf :                    x[0,2] + x[1,2] + x[2,2] + x[3,2] + x[4,2] + x[5,2] + x[6,2] + x[7,2] + x[8,2] + x[9,2] - 10*y[2] :   0.0 :   True\n",
      "          4 :  -Inf :                    x[0,3] + x[1,3] + x[2,3] + x[3,3] + x[4,3] + x[5,3] + x[6,3] + x[7,3] + x[8,3] + x[9,3] - 10*y[3] :   0.0 :   True\n",
      "          5 :  -Inf :                    x[0,4] + x[1,4] + x[2,4] + x[3,4] + x[4,4] + x[5,4] + x[6,4] + x[7,4] + x[8,4] + x[9,4] - 10*y[4] :   0.0 :   True\n",
      "          6 :  -Inf :                    x[0,5] + x[1,5] + x[2,5] + x[3,5] + x[4,5] + x[5,5] + x[6,5] + x[7,5] + x[8,5] + x[9,5] - 10*y[5] :   0.0 :   True\n",
      "          7 :  -Inf :                    x[0,6] + x[1,6] + x[2,6] + x[3,6] + x[4,6] + x[5,6] + x[6,6] + x[7,6] + x[8,6] + x[9,6] - 10*y[6] :   0.0 :   True\n",
      "          8 :  -Inf :                    x[0,7] + x[1,7] + x[2,7] + x[3,7] + x[4,7] + x[5,7] + x[6,7] + x[7,7] + x[8,7] + x[9,7] - 10*y[7] :   0.0 :   True\n",
      "          9 :  -Inf :                    x[0,8] + x[1,8] + x[2,8] + x[3,8] + x[4,8] + x[5,8] + x[6,8] + x[7,8] + x[8,8] + x[9,8] - 10*y[8] :   0.0 :   True\n",
      "         10 :  -Inf :                    x[0,9] + x[1,9] + x[2,9] + x[3,9] + x[4,9] + x[5,9] + x[6,9] + x[7,9] + x[8,9] + x[9,9] - 10*y[9] :   0.0 :   True\n",
      "         11 :  -Inf : 3*x[0,0] + 4*x[1,0] + 3*x[2,0] + 4*x[3,0] + 4*x[4,0] + 5*x[5,0] + 3*x[6,0] + 5*x[7,0] + 3*x[8,0] + 3*x[9,0] - 8*y[0] :   0.0 :   True\n",
      "         12 :  -Inf : 3*x[0,1] + 4*x[1,1] + 3*x[2,1] + 4*x[3,1] + 4*x[4,1] + 5*x[5,1] + 3*x[6,1] + 5*x[7,1] + 3*x[8,1] + 3*x[9,1] - 8*y[1] :   0.0 :   True\n",
      "         13 :  -Inf : 3*x[0,2] + 4*x[1,2] + 3*x[2,2] + 4*x[3,2] + 4*x[4,2] + 5*x[5,2] + 3*x[6,2] + 5*x[7,2] + 3*x[8,2] + 3*x[9,2] - 8*y[2] :   0.0 :   True\n",
      "         14 :  -Inf : 3*x[0,3] + 4*x[1,3] + 3*x[2,3] + 4*x[3,3] + 4*x[4,3] + 5*x[5,3] + 3*x[6,3] + 5*x[7,3] + 3*x[8,3] + 3*x[9,3] - 8*y[3] :   0.0 :   True\n",
      "         15 :  -Inf : 3*x[0,4] + 4*x[1,4] + 3*x[2,4] + 4*x[3,4] + 4*x[4,4] + 5*x[5,4] + 3*x[6,4] + 5*x[7,4] + 3*x[8,4] + 3*x[9,4] - 8*y[4] :   0.0 :   True\n",
      "         16 :  -Inf : 3*x[0,5] + 4*x[1,5] + 3*x[2,5] + 4*x[3,5] + 4*x[4,5] + 5*x[5,5] + 3*x[6,5] + 5*x[7,5] + 3*x[8,5] + 3*x[9,5] - 8*y[5] :   0.0 :   True\n",
      "         17 :  -Inf : 3*x[0,6] + 4*x[1,6] + 3*x[2,6] + 4*x[3,6] + 4*x[4,6] + 5*x[5,6] + 3*x[6,6] + 5*x[7,6] + 3*x[8,6] + 3*x[9,6] - 8*y[6] :   0.0 :   True\n",
      "         18 :  -Inf : 3*x[0,7] + 4*x[1,7] + 3*x[2,7] + 4*x[3,7] + 4*x[4,7] + 5*x[5,7] + 3*x[6,7] + 5*x[7,7] + 3*x[8,7] + 3*x[9,7] - 8*y[7] :   0.0 :   True\n",
      "         19 :  -Inf : 3*x[0,8] + 4*x[1,8] + 3*x[2,8] + 4*x[3,8] + 4*x[4,8] + 5*x[5,8] + 3*x[6,8] + 5*x[7,8] + 3*x[8,8] + 3*x[9,8] - 8*y[8] :   0.0 :   True\n",
      "         20 :  -Inf : 3*x[0,9] + 4*x[1,9] + 3*x[2,9] + 4*x[3,9] + 4*x[4,9] + 5*x[5,9] + 3*x[6,9] + 5*x[7,9] + 3*x[8,9] + 3*x[9,9] - 8*y[9] :   0.0 :   True\n",
      "    c3 : Size=10, Index={1, 2, 3, 4, 5, 6, 7, 8, 9, 10}, Active=True\n",
      "        Key : Lower : Body                                                                                                                       : Upper : Active\n",
      "          1 :  -Inf : 8*y[0] - (3*x[0,0] + 4*x[1,0] + 3*x[2,0] + 4*x[3,0] + 4*x[4,0] + 5*x[5,0] + 3*x[6,0] + 5*x[7,0] + 3*x[8,0] + 3*x[9,0]) - z :   0.0 :   True\n",
      "          2 :  -Inf : 8*y[1] - (3*x[0,1] + 4*x[1,1] + 3*x[2,1] + 4*x[3,1] + 4*x[4,1] + 5*x[5,1] + 3*x[6,1] + 5*x[7,1] + 3*x[8,1] + 3*x[9,1]) - z :   0.0 :   True\n",
      "          3 :  -Inf : 8*y[2] - (3*x[0,2] + 4*x[1,2] + 3*x[2,2] + 4*x[3,2] + 4*x[4,2] + 5*x[5,2] + 3*x[6,2] + 5*x[7,2] + 3*x[8,2] + 3*x[9,2]) - z :   0.0 :   True\n",
      "          4 :  -Inf : 8*y[3] - (3*x[0,3] + 4*x[1,3] + 3*x[2,3] + 4*x[3,3] + 4*x[4,3] + 5*x[5,3] + 3*x[6,3] + 5*x[7,3] + 3*x[8,3] + 3*x[9,3]) - z :   0.0 :   True\n",
      "          5 :  -Inf : 8*y[4] - (3*x[0,4] + 4*x[1,4] + 3*x[2,4] + 4*x[3,4] + 4*x[4,4] + 5*x[5,4] + 3*x[6,4] + 5*x[7,4] + 3*x[8,4] + 3*x[9,4]) - z :   0.0 :   True\n",
      "          6 :  -Inf : 8*y[5] - (3*x[0,5] + 4*x[1,5] + 3*x[2,5] + 4*x[3,5] + 4*x[4,5] + 5*x[5,5] + 3*x[6,5] + 5*x[7,5] + 3*x[8,5] + 3*x[9,5]) - z :   0.0 :   True\n",
      "          7 :  -Inf : 8*y[6] - (3*x[0,6] + 4*x[1,6] + 3*x[2,6] + 4*x[3,6] + 4*x[4,6] + 5*x[5,6] + 3*x[6,6] + 5*x[7,6] + 3*x[8,6] + 3*x[9,6]) - z :   0.0 :   True\n",
      "          8 :  -Inf : 8*y[7] - (3*x[0,7] + 4*x[1,7] + 3*x[2,7] + 4*x[3,7] + 4*x[4,7] + 5*x[5,7] + 3*x[6,7] + 5*x[7,7] + 3*x[8,7] + 3*x[9,7]) - z :   0.0 :   True\n",
      "          9 :  -Inf : 8*y[8] - (3*x[0,8] + 4*x[1,8] + 3*x[2,8] + 4*x[3,8] + 4*x[4,8] + 5*x[5,8] + 3*x[6,8] + 5*x[7,8] + 3*x[8,8] + 3*x[9,8]) - z :   0.0 :   True\n",
      "         10 :  -Inf : 8*y[9] - (3*x[0,9] + 4*x[1,9] + 3*x[2,9] + 4*x[3,9] + 4*x[4,9] + 5*x[5,9] + 3*x[6,9] + 5*x[7,9] + 3*x[8,9] + 3*x[9,9]) - z :   0.0 :   True\n",
      "    c4 : Size=0, Index={}, Active=True\n",
      "        Key : Lower : Body : Upper : Active\n",
      "\n",
      "8 Declarations: x y z obj c1 c2 c3 c4\n"
     ]
    }
   ],
   "source": [
    "model.pprint()"
   ]
  },
  {
   "cell_type": "code",
   "execution_count": 35,
   "id": "57d74d05",
   "metadata": {},
   "outputs": [],
   "source": [
    "results = pyo.SolverFactory('cbc').solve(model)"
   ]
  },
  {
   "cell_type": "code",
   "execution_count": 39,
   "id": "2321d574",
   "metadata": {},
   "outputs": [],
   "source": [
    "def bin_packing_solution(model):\n",
    "    \"\"\"\n",
    "    Function to show the bin packing solution as a list of items in each bin.\n",
    "\n",
    "    Args:\n",
    "        model (pyo.ConcreteModel): Pyomo model of the problem.\n",
    "\n",
    "    Returns:\n",
    "        list: List of items in each bin. Each item is represented by its index (not size).\n",
    "    \n",
    "    \"\"\"\n",
    "    \n",
    "    bins = []\n",
    "    for j in model.J:\n",
    "        bin_items = []\n",
    "        for i in model.I:\n",
    "            if pyo.value(model.x[i, j]) == 1:\n",
    "                bin_items.append(i)\n",
    "        bins.append(bin_items)\n",
    "    \n",
    "    return bins"
   ]
  },
  {
   "cell_type": "code",
   "execution_count": 40,
   "id": "102a119a",
   "metadata": {},
   "outputs": [
    {
     "data": {
      "text/plain": [
       "[[], [1, 8], [7, 9], [], [5, 6], [0, 4], [], [2, 3], [], []]"
      ]
     },
     "execution_count": 40,
     "metadata": {},
     "output_type": "execute_result"
    }
   ],
   "source": [
    "bin_packing_solution(model)"
   ]
  },
  {
   "cell_type": "code",
   "execution_count": 75,
   "id": "ee880515",
   "metadata": {},
   "outputs": [],
   "source": [
    "def bin_packing_plot(model, problem: np.array, bin_size: Optional[int] = None, figsize=(8, 5)):\n",
    "    \"\"\"\n",
    "    Function to show the bin packing solution as a stacked bar plot.\n",
    "\n",
    "    Each bar represents a bin, and different items are colored differently and stacked on top of each other.\n",
    "\n",
    "    Args:\n",
    "        model (pyo.ConcreteModel): solved Pyomo model of the problem.\n",
    "        problem (np.array): Array of item sizes. Used to get the size of each item.\n",
    "        bin_size (int): Size of the bins. Used to draw the size of the bins.\n",
    "        figsize (Tuple[int, int]): Size of the plot.\n",
    "\n",
    "    Returns:\n",
    "        None\n",
    "    \n",
    "    \"\"\"\n",
    "    \n",
    "    bins = [[] for _ in model.J]\n",
    "    for j in model.J:\n",
    "        for i in model.I:\n",
    "            if pyo.value(model.x[i, j]) == 1:\n",
    "                bins[j].append(i)\n",
    "    \n",
    "    colors = plt.cm.viridis(np.linspace(0, 1, len(bins)))\n",
    "    fig, ax = plt.subplots(figsize=figsize)\n",
    "    for j, bin_items in enumerate(bins):\n",
    "        bottom = 0\n",
    "        for item in bin_items:\n",
    "            ax.bar(j, problem[item], bottom=bottom, color=colors[item], label=f'Item {item}' if bottom == 0 else \"\")\n",
    "            bottom += problem[item]\n",
    "    if bin_size:\n",
    "        ax.axhline(y=bin_size, color='r', linestyle='--', alpha=0.5, label=f'Bin size = {bin_size}')\n",
    "    \n",
    "    # set x-axis to only show major ticks\n",
    "    ax.xaxis.set_major_locator(plt.MultipleLocator(1))\n",
    "    ax.set_title('Bin Packing Solution')\n",
    "    plt.show()"
   ]
  },
  {
   "cell_type": "code",
   "execution_count": 77,
   "id": "cead352c",
   "metadata": {},
   "outputs": [
    {
     "data": {
      "image/png": "[encoded data removed]",
      "text/plain": [
       "<Figure size 800x500 with 1 Axes>"
      ]
     },
     "metadata": {},
     "output_type": "display_data"
    }
   ],
   "source": [
    "bin_packing_plot(model, a, 8)"
   ]
  },
  {
   "cell_type": "code",
   "execution_count": 78,
   "id": "9dc0dd65",
   "metadata": {},
   "outputs": [],
   "source": [
    "def pack_and_plot_bins(items: np.array, bin_size: int, figsize=(8, 5), solver='cbc'):\n",
    "    \"\"\"\n",
    "    Function to solve the bin packing problem and plot the solution.\n",
    "\n",
    "    Args:\n",
    "        items (np.array): Array of item sizes.\n",
    "        bin_size (int): Size of the bins.\n",
    "        figsize (Tuple[int, int]): Size of the plot.\n",
    "\n",
    "    Returns:\n",
    "        None\n",
    "    \n",
    "    \"\"\"\n",
    "    \n",
    "    model = create_model(items, bin_size)\n",
    "    pyo.SolverFactory(solver).solve(model)\n",
    "    bin_packing_plot(model, items, bin_size, figsize)"
   ]
  },
  {
   "cell_type": "code",
   "execution_count": 79,
   "id": "65c5d44d",
   "metadata": {},
   "outputs": [
    {
     "data": {
      "text/plain": [
       "array([1, 2, 2, 1, 2, 2, 2, 2, 2, 2], dtype=int32)"
      ]
     },
     "execution_count": 79,
     "metadata": {},
     "output_type": "execute_result"
    }
   ],
   "source": [
    "bins1 = make_items(10, (1, 3), 0)\n",
    "bins1"
   ]
  },
  {
   "cell_type": "code",
   "execution_count": 80,
   "id": "35ea31ed",
   "metadata": {},
   "outputs": [
    {
     "data": {
      "image/png": "[encoded data removed]",
      "text/plain": [
       "<Figure size 800x500 with 1 Axes>"
      ]
     },
     "metadata": {},
     "output_type": "display_data"
    }
   ],
   "source": [
    "pack_and_plot_bins(bins1, 10)"
   ]
  },
  {
   "cell_type": "code",
   "execution_count": null,
   "id": "5afed633",
   "metadata": {},
   "outputs": [],
   "source": []
  }
 ],
 "metadata": {
  "kernelspec": {
   "display_name": "pyomo_env",
   "language": "python",
   "name": "python3"
  },
  "language_info": {
   "codemirror_mode": {
    "name": "ipython",
    "version": 3
   },
   "file_extension": ".py",
   "mimetype": "text/x-python",
   "name": "python",
   "nbconvert_exporter": "python",
   "pygments_lexer": "ipython3",
   "version": "3.11.0"
  }
 },
 "nbformat": 4,
 "nbformat_minor": 5
}
