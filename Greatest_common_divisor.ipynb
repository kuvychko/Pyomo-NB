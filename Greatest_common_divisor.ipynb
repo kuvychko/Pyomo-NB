{
 "cells": [
  {
   "cell_type": "markdown",
   "id": "844377ce",
   "metadata": {},
   "source": [
    "# Greatest common divisor (gcd)\n",
    "\n",
    "The problem is to calculate gcd using integer programming. This is a direct formulation proposed by ChatGPT (as of 12/29/2024) but it is non-linear and will not work with linear solvers. ChatGPT provided a solution using GLPK linear solver.\n",
    "\n",
    "Maximize $( Z = gcd )$\n",
    "\n",
    "Subject to:\n",
    "$$\n",
    "\\begin{aligned}\n",
    "& A, B, gcd \\in \\mathbb{Z} \\\\\n",
    "& A, B, gcd > 0 \\\\\n",
    "& gcd \\in [1, min(a, b)] \\\\\n",
    "& gcd \\cdot A = a \\\\\n",
    "& gcd \\cdot B = b \\\\\n",
    "\\end{aligned}\n",
    "$$\n",
    "\n",
    "Problem is taken from Mustafa Ç. Pınar's and  Deniz Akkaya's [Problems and Solutions for Integer and Combinatorial Optimization: Building Skills in Discrete Optimization](https://epubs.siam.org/doi/book/10.1137/1.9781611977769).\n",
    "\n",
    "Assumptions: input values $a, b \\in \\mathbb{Z}, a > 0, b > 0$"
   ]
  },
  {
   "cell_type": "code",
   "execution_count": 4,
   "id": "e5ee8af7",
   "metadata": {},
   "outputs": [],
   "source": [
    "import time\n",
    "import pyomo.environ as pyo\n",
    "from hypothesis import given, settings, strategies as st\n",
    "\n",
    "#%matplotlib qt\n",
    "%matplotlib inline"
   ]
  },
  {
   "cell_type": "markdown",
   "id": "37babf42",
   "metadata": {},
   "source": [
    "## Standard implementation and tests\n",
    "\n",
    "Standard implementation uses Euclidean algorithm and property-based test."
   ]
  },
  {
   "cell_type": "code",
   "execution_count": 5,
   "id": "41d4bc0b",
   "metadata": {},
   "outputs": [
    {
     "data": {
      "text/plain": [
       "{'gcd': 1}"
      ]
     },
     "execution_count": 5,
     "metadata": {},
     "output_type": "execute_result"
    }
   ],
   "source": [
    "def gcd(a, b, *args, **kwargs):\n",
    "    \"\"\"Compute the greatest common divisor of a and b using Euclidean algorithm (standard implementation).\"\"\"\n",
    "    \n",
    "    while b:\n",
    "        a, b = b, a % b\n",
    "    return {'gcd':a}\n",
    "\n",
    "gcd(13, 19)"
   ]
  },
  {
   "cell_type": "code",
   "execution_count": 6,
   "id": "ef5b8376",
   "metadata": {},
   "outputs": [],
   "source": [
    "# Property-based testing - using hypothesis library\n",
    "@settings(max_examples=50, deadline=None)\n",
    "@given(a=st.integers(min_value=1, max_value=100), b=st.integers(min_value=1, max_value=100))\n",
    "def test_gcd_function(a, b, gcd_function, solver):\n",
    "    gcd_standard = gcd(a, b)['gcd']\n",
    "    gcd_mip_result = gcd_function(a, b, solver=solver)\n",
    "    gcd_mip = gcd_mip_result['gcd']\n",
    "    assert gcd_standard == gcd_mip, \\\n",
    "        f\"Failed for gcd_ip0 with a={a}, b={b}, gcd_ip={gcd_mip}, termination message: {gcd_mip_result['termination_message']}\""
   ]
  },
  {
   "cell_type": "code",
   "execution_count": 7,
   "id": "a8ca68c6",
   "metadata": {},
   "outputs": [],
   "source": [
    "test_gcd_function(gcd_function=gcd, solver='cbc')"
   ]
  },
  {
   "cell_type": "markdown",
   "id": "e0bbd98a",
   "metadata": {},
   "source": [
    "## GCD formulation using equality constraint\n",
    "\n",
    "Minimize $( Z = A \\cdot b + B \\cdot a )$\n",
    "\n",
    "Subject to:\n",
    "$$\n",
    "\\begin{aligned}\n",
    "& A, B \\in \\mathbb{Z} \\\\\n",
    "& A \\in [1, a] \\\\\n",
    "& B \\in [1, b] \\\\\n",
    "& a \\cdot B = A \\cdot b \\\\\n",
    "\\end{aligned}\n",
    "$$\n",
    "\n",
    "Solution is unique:\n",
    "$$\n",
    "\\begin{aligned}\n",
    "& gcd = \\frac{a}{A} = \\frac{b}{B} \\\\\n",
    "\\end{aligned}\n",
    "$$"
   ]
  },
  {
   "cell_type": "code",
   "execution_count": 8,
   "id": "bf77c14b",
   "metadata": {},
   "outputs": [],
   "source": [
    "def gcd_ip0(a, b, solver='cbc', filename=None):\n",
    "    \"\"\"Compute the greatest common divisor of a and b using MIP\n",
    "    \n",
    "    Uses the following model formulation (using equality constraint):\n",
    "    min A*b + B*a\n",
    "    s.t. A*b = B*a\n",
    "    A, B >= 1, A <= a, B <= b\n",
    "\n",
    "    gcd(a, b) = a/A = b/B\n",
    "    \"\"\"\n",
    "    # Initialize the model\n",
    "    model = pyo.ConcreteModel()\n",
    "\n",
    "    # Define decision variables\n",
    "    model.A = pyo.Var(domain=pyo.PositiveIntegers, bounds=(1, a))\n",
    "    model.B = pyo.Var(domain=pyo.PositiveIntegers, bounds=(1, b))\n",
    "\n",
    "    # Define the objective\n",
    "    model.objective = pyo.Objective(\n",
    "        expr=model.A*b + model.B*a, sense=pyo.minimize\n",
    "    )\n",
    "\n",
    "    # Define constraint\n",
    "    model.constraint = pyo.Constraint(expr= model.A*b == model.B*a)\n",
    "    \n",
    "    # Write the model to a file\n",
    "    if filename:\n",
    "        model.write(filename, format='lp')\n",
    "\n",
    "    # Solve the model and time it\n",
    "    solver = pyo.SolverFactory(solver)\n",
    "    start_time = time.time()\n",
    "    result = solver.solve(model)\n",
    "    elapsed_time = time.time() - start_time\n",
    "\n",
    "    # Compile the results into a dictionary and return\n",
    "    results = {\n",
    "        'a': a,\n",
    "        'b': b,\n",
    "        'gcd': pyo.value(a/model.A),\n",
    "        'time': elapsed_time,\n",
    "        'Status': result.solver.status,\n",
    "        'Termination Condition': result.solver.termination_condition,\n",
    "        'Termination Message': result.solver.termination_message,\n",
    "        'Optimal Value (z)': model.objective()\n",
    "    }\n",
    "    return results"
   ]
  },
  {
   "cell_type": "code",
   "execution_count": 9,
   "id": "a4fa5a37",
   "metadata": {},
   "outputs": [
    {
     "data": {
      "text/plain": [
       "{'a': 9,\n",
       " 'b': 27,\n",
       " 'gcd': 9.0,\n",
       " 'time': 0.15268802642822266,\n",
       " 'Status': <SolverStatus.ok: 'ok'>,\n",
       " 'Termination Condition': <TerminationCondition.optimal: 'optimal'>,\n",
       " 'Termination Message': 'Model was solved to optimality (subject to tolerances), and an optimal solution is available.',\n",
       " 'Optimal Value (z)': 54.0}"
      ]
     },
     "execution_count": 9,
     "metadata": {},
     "output_type": "execute_result"
    }
   ],
   "source": [
    "gcd_ip0(9, 27, solver='cbc')"
   ]
  },
  {
   "cell_type": "code",
   "execution_count": 10,
   "id": "0a58bdc3",
   "metadata": {},
   "outputs": [],
   "source": [
    "test_gcd_function(gcd_function=gcd_ip0, solver='cbc')"
   ]
  },
  {
   "cell_type": "markdown",
   "id": "cd4165ad",
   "metadata": {},
   "source": [
    "## GCD formulation using non-equality constraints\n",
    "\n",
    "Minimize $( Z = A \\cdot a + B \\cdot b )$\n",
    "\n",
    "Subject to:\n",
    "$$\n",
    "\\begin{aligned}\n",
    "& A, B \\in \\mathbb{Z} \\\\\n",
    "& Z \\geq 1 \\\\\n",
    "\\end{aligned}\n",
    "$$\n",
    "\n",
    "There are infinitely many solutions when A and B are not constrained:\n",
    "$$\n",
    "\\begin{aligned}\n",
    "& gcd = Z \\\\\n",
    "\\end{aligned}\n",
    "$$\n",
    "\n",
    "CBC wonders off to very large values of A and B which reveals a bug in displaying very large integers. See https://github.com/coin-or/Cbc/issues/685 for more details.\n"
   ]
  },
  {
   "cell_type": "code",
   "execution_count": 11,
   "id": "2d30d823",
   "metadata": {},
   "outputs": [],
   "source": [
    "def gcd_ip1(a, b, solver='cbc'):\n",
    "    \"\"\"Compute the greatest common divisor of a and b using MIP (alternative formulation)\n",
    "    \n",
    "    Uses the following model (alternative formulation using inequality constraint):\n",
    "    min A*a + B*b\n",
    "    s.t. A*a + B*b >= 1\n",
    "\n",
    "    gcd(a, b) = A*a + B*b    \n",
    "    \"\"\"\n",
    "    # Initialize the model\n",
    "    model = pyo.ConcreteModel()\n",
    "\n",
    "    # Define decision variables\n",
    "    model.A = pyo.Var(domain=pyo.Integers)\n",
    "    model.B = pyo.Var(domain=pyo.Integers)\n",
    "    model.C = pyo.Var(domain=pyo.PositiveIntegers)\n",
    "\n",
    "    # Define the objective\n",
    "    model.objective = pyo.Objective(\n",
    "        expr=model.A*a + model.B*b, sense=pyo.minimize\n",
    "    )\n",
    "\n",
    "    # Define constraint\n",
    "    model.constraint1 = pyo.Constraint(expr= (a*model.A + b*model.B) == model.C)\n",
    "    \n",
    "    \n",
    "    # Solve the model and time it\n",
    "    solver = pyo.SolverFactory(solver)\n",
    "    start_time = time.time()\n",
    "    result = solver.solve(model)\n",
    "    elapsed_time = time.time() - start_time\n",
    "\n",
    "    # Compile the results into a dictionary and return\n",
    "    results = {\n",
    "        'a': a,\n",
    "        'b': b,\n",
    "        'A': pyo.value(model.A),\n",
    "        'B': pyo.value(model.B),\n",
    "        'gcd': pyo.value(model.A*a + model.B*b),\n",
    "        'time': elapsed_time,\n",
    "        'Status': result.solver.status,\n",
    "        'Termination Condition': result.solver.termination_condition,\n",
    "        'Termination Message': result.solver.termination_message,\n",
    "        'Optimal Value (z)': model.objective()\n",
    "    }\n",
    "    return results"
   ]
  },
  {
   "cell_type": "code",
   "execution_count": 12,
   "id": "4e2c5b07",
   "metadata": {},
   "outputs": [
    {
     "ename": "KeyError",
     "evalue": "'termination_message'",
     "output_type": "error",
     "traceback": [
      "\u001b[1;31m---------------------------------------------------------------------------\u001b[0m",
      "\u001b[1;31mKeyError\u001b[0m                                  Traceback (most recent call last)",
      "Cell \u001b[1;32mIn[12], line 1\u001b[0m\n\u001b[1;32m----> 1\u001b[0m test_gcd_function(gcd_function\u001b[38;5;241m=\u001b[39mgcd_ip1, solver\u001b[38;5;241m=\u001b[39m\u001b[38;5;124m'\u001b[39m\u001b[38;5;124mcbc\u001b[39m\u001b[38;5;124m'\u001b[39m)\n",
      "Cell \u001b[1;32mIn[6], line 3\u001b[0m, in \u001b[0;36mtest_gcd_function\u001b[1;34m(gcd_function, solver)\u001b[0m\n\u001b[0;32m      1\u001b[0m \u001b[38;5;66;03m# Property-based testing - using hypothesis library\u001b[39;00m\n\u001b[0;32m      2\u001b[0m \u001b[38;5;129m@settings\u001b[39m(max_examples\u001b[38;5;241m=\u001b[39m\u001b[38;5;241m50\u001b[39m, deadline\u001b[38;5;241m=\u001b[39m\u001b[38;5;28;01mNone\u001b[39;00m)\n\u001b[1;32m----> 3\u001b[0m \u001b[38;5;129m@given\u001b[39m(a\u001b[38;5;241m=\u001b[39mst\u001b[38;5;241m.\u001b[39mintegers(min_value\u001b[38;5;241m=\u001b[39m\u001b[38;5;241m1\u001b[39m, max_value\u001b[38;5;241m=\u001b[39m\u001b[38;5;241m100\u001b[39m), b\u001b[38;5;241m=\u001b[39mst\u001b[38;5;241m.\u001b[39mintegers(min_value\u001b[38;5;241m=\u001b[39m\u001b[38;5;241m1\u001b[39m, max_value\u001b[38;5;241m=\u001b[39m\u001b[38;5;241m100\u001b[39m))\n\u001b[0;32m      4\u001b[0m \u001b[38;5;28;01mdef\u001b[39;00m \u001b[38;5;21mtest_gcd_function\u001b[39m(a, b, gcd_function, solver):\n\u001b[0;32m      5\u001b[0m     gcd_standard \u001b[38;5;241m=\u001b[39m gcd(a, b)[\u001b[38;5;124m'\u001b[39m\u001b[38;5;124mgcd\u001b[39m\u001b[38;5;124m'\u001b[39m]\n\u001b[0;32m      6\u001b[0m     gcd_mip_result \u001b[38;5;241m=\u001b[39m gcd_function(a, b, solver\u001b[38;5;241m=\u001b[39msolver)\n",
      "    \u001b[1;31m[... skipping hidden 1 frame]\u001b[0m\n",
      "Cell \u001b[1;32mIn[6], line 9\u001b[0m, in \u001b[0;36mtest_gcd_function\u001b[1;34m(a, b, gcd_function, solver)\u001b[0m\n\u001b[0;32m      6\u001b[0m gcd_mip_result \u001b[38;5;241m=\u001b[39m gcd_function(a, b, solver\u001b[38;5;241m=\u001b[39msolver)\n\u001b[0;32m      7\u001b[0m gcd_mip \u001b[38;5;241m=\u001b[39m gcd_mip_result[\u001b[38;5;124m'\u001b[39m\u001b[38;5;124mgcd\u001b[39m\u001b[38;5;124m'\u001b[39m]\n\u001b[0;32m      8\u001b[0m \u001b[38;5;28;01massert\u001b[39;00m gcd_standard \u001b[38;5;241m==\u001b[39m gcd_mip, \\\n\u001b[1;32m----> 9\u001b[0m     \u001b[38;5;124mf\u001b[39m\u001b[38;5;124m\"\u001b[39m\u001b[38;5;124mFailed for gcd_ip0 with a=\u001b[39m\u001b[38;5;132;01m{\u001b[39;00ma\u001b[38;5;132;01m}\u001b[39;00m\u001b[38;5;124m, b=\u001b[39m\u001b[38;5;132;01m{\u001b[39;00mb\u001b[38;5;132;01m}\u001b[39;00m\u001b[38;5;124m, gcd_ip=\u001b[39m\u001b[38;5;132;01m{\u001b[39;00mgcd_mip\u001b[38;5;132;01m}\u001b[39;00m\u001b[38;5;124m, termination message: \u001b[39m\u001b[38;5;132;01m{\u001b[39;00mgcd_mip_result[\u001b[38;5;124m'\u001b[39m\u001b[38;5;124mtermination_message\u001b[39m\u001b[38;5;124m'\u001b[39m]\u001b[38;5;132;01m}\u001b[39;00m\u001b[38;5;124m\"\u001b[39m\n",
      "\u001b[1;31mKeyError\u001b[0m: 'termination_message'",
      "\u001b[0mFalsifying example: test_gcd_function(\n    gcd_function=gcd_ip1,\n    solver='cbc',\n    a=2,\n    b=2,\n)",
      "\u001b[0mExplanation:",
      "\u001b[0m    These lines were always and only run by failing examples:",
      "\u001b[0m        C:\\Users\\igork\\AppData\\Local\\Temp\\ipykernel_25192\\696265424.py:9",
      "\u001b[0m        c:\\Users\\igork\\anaconda3\\envs\\pyomo_env\\Lib\\site-packages\\pyomo\\core\\expr\\numeric_expr.py:2045",
      "\u001b[0m        c:\\Users\\igork\\anaconda3\\envs\\pyomo_env\\Lib\\site-packages\\pyomo\\solvers\\plugins\\solvers\\CBCplugin.py:470",
      "\u001b[0m        c:\\Users\\igork\\anaconda3\\envs\\pyomo_env\\Lib\\site-packages\\pyomo\\solvers\\plugins\\solvers\\CBCplugin.py:475",
      "\u001b[0m        c:\\Users\\igork\\anaconda3\\envs\\pyomo_env\\Lib\\site-packages\\pyomo\\solvers\\plugins\\solvers\\CBCplugin.py:478",
      "\u001b[0m        (and 3 more with settings.verbosity >= verbose)"
     ]
    }
   ],
   "source": [
    "test_gcd_function(gcd_function=gcd_ip1, solver='cbc')"
   ]
  },
  {
   "cell_type": "code",
   "execution_count": 13,
   "id": "44d2517b",
   "metadata": {},
   "outputs": [
    {
     "data": {
      "text/plain": [
       "{'a': 2,\n",
       " 'b': 2,\n",
       " 'A': -12345679000.0,\n",
       " 'B': 12345679000.0,\n",
       " 'gcd': 0.0,\n",
       " 'time': 0.13756656646728516,\n",
       " 'Status': <SolverStatus.ok: 'ok'>,\n",
       " 'Termination Condition': <TerminationCondition.optimal: 'optimal'>,\n",
       " 'Termination Message': 'Model was solved to optimality (subject to tolerances), and an optimal solution is available.',\n",
       " 'Optimal Value (z)': 0.0}"
      ]
     },
     "execution_count": 13,
     "metadata": {},
     "output_type": "execute_result"
    }
   ],
   "source": [
    "gcd_ip1(2, 2, solver='cbc')"
   ]
  },
  {
   "cell_type": "markdown",
   "id": "aa364669",
   "metadata": {},
   "source": [
    "## GCD formulation with non-equality constraints\n",
    "\n",
    "\n",
    "Model formulation (c) using inequality constraints. Additional constraints ensure unique solution:\n",
    "\n",
    "Minimize $( Z = A \\cdot a + B \\cdot b )$\n",
    "\n",
    "Subject to:\n",
    "$$\n",
    "\\begin{aligned}\n",
    "& A, B \\in \\mathbb{Z} \\\\\n",
    "& A \\in [-b, b] \\\\\n",
    "& B \\in [-a, a] \\\\\n",
    "& Z \\geq 1 \\\\\n",
    "\\end{aligned}\n",
    "$$\n",
    "\n",
    "Additional constraints on A and B ensure uniquess of the solution:\n",
    "$$\n",
    "\\begin{aligned}\n",
    "& gcd = Z \\\\\n",
    "\\end{aligned}\n",
    "$$"
   ]
  },
  {
   "cell_type": "code",
   "execution_count": 14,
   "id": "53ba833f",
   "metadata": {},
   "outputs": [],
   "source": [
    "def gcd_ip2(a, b, solver='cbc', filename=None):\n",
    "    \"\"\"Compute the greatest common divisor of a and b using MIP (alternative formulation)\n",
    "    \n",
    "    Uses the following model (alternative formulation using inequality constraint):\n",
    "    min A*a + B*b\n",
    "    s.t. A*a + B*b >= 1\n",
    "\n",
    "    gcd(a, b) = A*a + B*b    \n",
    "    \"\"\"\n",
    "    # Initialize the model\n",
    "    model = pyo.ConcreteModel()\n",
    "\n",
    "    # Define decision variables\n",
    "    model.A = pyo.Var(domain=pyo.Integers, bounds=(-b, b))\n",
    "    model.B = pyo.Var(domain=pyo.Integers, bounds=(-a, a))\n",
    "        \n",
    "    # Define the objective\n",
    "    model.objective = pyo.Objective(\n",
    "        expr=model.A*a + model.B*b, sense=pyo.minimize\n",
    "    )\n",
    "\n",
    "    # Define constraint\n",
    "    model.constraint = pyo.Constraint(expr= (1, model.A*a + model.B*b, min(a, b)))\n",
    "\n",
    "    # Write the model to a file\n",
    "    if filename:\n",
    "        model.write(filename, format='lp')\n",
    "    \n",
    "    # Solve the model and time it\n",
    "    solver = pyo.SolverFactory(solver)\n",
    "    start_time = time.time()\n",
    "    result = solver.solve(model)\n",
    "    elapsed_time = time.time() - start_time\n",
    "\n",
    "    # Compile the results into a dictionary and return\n",
    "    results = {\n",
    "        'a': a,\n",
    "        'b': b,\n",
    "        'A': pyo.value(model.A),\n",
    "        'B': pyo.value(model.B),\n",
    "        'gcd': pyo.value(model.A*a + model.B*b),\n",
    "        'time': elapsed_time,\n",
    "        'Status': result.solver.status,\n",
    "        'Termination Condition': result.solver.termination_condition,\n",
    "        'Termination Message': result.solver.termination_message,\n",
    "        'Optimal Value (z)': model.objective()\n",
    "    }\n",
    "    return results"
   ]
  },
  {
   "cell_type": "code",
   "execution_count": 15,
   "id": "84d8d642",
   "metadata": {},
   "outputs": [
    {
     "data": {
      "text/plain": [
       "{'a': 9,\n",
       " 'b': 27,\n",
       " 'A': -26.0,\n",
       " 'B': 9.0,\n",
       " 'gcd': 9.0,\n",
       " 'time': 0.132279634475708,\n",
       " 'Status': <SolverStatus.ok: 'ok'>,\n",
       " 'Termination Condition': <TerminationCondition.optimal: 'optimal'>,\n",
       " 'Termination Message': 'Model was solved to optimality (subject to tolerances), and an optimal solution is available.',\n",
       " 'Optimal Value (z)': 9.0}"
      ]
     },
     "execution_count": 15,
     "metadata": {},
     "output_type": "execute_result"
    }
   ],
   "source": [
    "gcd_ip2(9, 27, solver='cbc')"
   ]
  },
  {
   "cell_type": "code",
   "execution_count": 16,
   "id": "b8cd3ee7",
   "metadata": {},
   "outputs": [],
   "source": [
    "test_gcd_function(gcd_function=gcd_ip2, solver='cbc')"
   ]
  },
  {
   "cell_type": "code",
   "execution_count": null,
   "id": "06c04332",
   "metadata": {},
   "outputs": [],
   "source": []
  }
 ],
 "metadata": {
  "kernelspec": {
   "display_name": "pyomo_env",
   "language": "python",
   "name": "python3"
  },
  "language_info": {
   "codemirror_mode": {
    "name": "ipython",
    "version": 3
   },
   "file_extension": ".py",
   "mimetype": "text/x-python",
   "name": "python",
   "nbconvert_exporter": "python",
   "pygments_lexer": "ipython3",
   "version": "3.11.0"
  }
 },
 "nbformat": 4,
 "nbformat_minor": 5
}
